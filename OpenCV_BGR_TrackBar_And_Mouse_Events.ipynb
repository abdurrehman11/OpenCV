{
 "cells": [
  {
   "cell_type": "code",
   "execution_count": 1,
   "metadata": {},
   "outputs": [],
   "source": [
    "import cv2\n",
    "import numpy as np"
   ]
  },
  {
   "cell_type": "code",
   "execution_count": 5,
   "metadata": {},
   "outputs": [],
   "source": [
    "def emptyFunction(x):\n",
    "    pass\n",
    "\n",
    "img1 = np.zeros((512, 512, 3), np.uint8)\n",
    "windowName = \"OpenCV BGR Color Palette\"\n",
    "cv2.namedWindow(windowName)\n",
    "\n",
    "# create TrackBars\n",
    "cv2.createTrackbar('B', windowName, 0, 255, emptyFunction)\n",
    "cv2.createTrackbar('G', windowName, 0, 255, emptyFunction)\n",
    "cv2.createTrackbar('R', windowName, 0, 255, emptyFunction)\n",
    "\n",
    "while(True):\n",
    "    cv2.imshow(windowName, img1)\n",
    "    \n",
    "    if cv2.waitKey(1) == 27:\n",
    "        break;\n",
    "        \n",
    "    blue = cv2.getTrackbarPos('B', windowName)\n",
    "    green = cv2.getTrackbarPos('G', windowName)\n",
    "    red = cv2.getTrackbarPos('R', windowName)\n",
    "    \n",
    "    img1[:] = [blue, green, red]\n",
    "\n",
    "cv2.destroyAllWindows()"
   ]
  },
  {
   "cell_type": "code",
   "execution_count": 13,
   "metadata": {},
   "outputs": [
    {
     "name": "stdout",
     "output_type": "stream",
     "text": [
      "Events in OpenCV :\n",
      "\n",
      "EVENT_FLAG_ALTKEY\n",
      "EVENT_FLAG_CTRLKEY\n",
      "EVENT_FLAG_LBUTTON\n",
      "EVENT_FLAG_MBUTTON\n",
      "EVENT_FLAG_RBUTTON\n",
      "EVENT_FLAG_SHIFTKEY\n",
      "EVENT_LBUTTONDBLCLK\n",
      "EVENT_LBUTTONDOWN\n",
      "EVENT_LBUTTONUP\n",
      "EVENT_MBUTTONDBLCLK\n",
      "EVENT_MBUTTONDOWN\n",
      "EVENT_MBUTTONUP\n",
      "EVENT_MOUSEHWHEEL\n",
      "EVENT_MOUSEMOVE\n",
      "EVENT_MOUSEWHEEL\n",
      "EVENT_RBUTTONDBLCLK\n",
      "EVENT_RBUTTONDOWN\n",
      "EVENT_RBUTTONUP\n"
     ]
    }
   ],
   "source": [
    "events = [i for i in dir(cv2) if 'EVENT' in i]\n",
    "print(\"Events in OpenCV :\\n\")\n",
    "print(\"\\n\".join(events))"
   ]
  },
  {
   "cell_type": "code",
   "execution_count": 18,
   "metadata": {},
   "outputs": [],
   "source": [
    "img1 = np.zeros((512, 512, 3), np.uint8)\n",
    "windowName = 'Drawing'\n",
    "cv2.namedWindow(windowName)\n",
    "\n",
    "# mouse callback funcion\n",
    "def draw_circle(event, x, y, flags, param):\n",
    "    if event == cv2.EVENT_LBUTTONDBLCLK:\n",
    "        cv2.circle(img1, (x, y), 40, (0, 255, 0), -1)\n",
    "        \n",
    "    if event == cv2.EVENT_LBUTTONDOWN:\n",
    "        cv2.circle(img1, (x, y), 20, (0, 0, 255), -1)\n",
    "        \n",
    "    if event == cv2.EVENT_MBUTTONDOWN:\n",
    "        cv2.circle(img1, (x, y), 20, (255, 0, 0), -1)\n",
    "        \n",
    "# bind the callback function to window\n",
    "cv2.setMouseCallback(windowName, draw_circle)\n",
    "\n",
    "while(True):\n",
    "    cv2.imshow(windowName, img1)\n",
    "    \n",
    "    if cv2.waitKey(1) == 27:\n",
    "        break;\n",
    "        \n",
    "cv2.destroyAllWindows()"
   ]
  }
 ],
 "metadata": {
  "kernelspec": {
   "display_name": "Python 3",
   "language": "python",
   "name": "python3"
  },
  "language_info": {
   "codemirror_mode": {
    "name": "ipython",
    "version": 3
   },
   "file_extension": ".py",
   "mimetype": "text/x-python",
   "name": "python",
   "nbconvert_exporter": "python",
   "pygments_lexer": "ipython3",
   "version": "3.6.5"
  }
 },
 "nbformat": 4,
 "nbformat_minor": 2
}
